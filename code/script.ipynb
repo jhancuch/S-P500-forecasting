{
 "cells": [
  {
   "cell_type": "markdown",
   "id": "1a7e8a20-52be-4281-b47b-b248ce092180",
   "metadata": {},
   "source": [
    "# Forecast S&P 500 Index Closing Price"
   ]
  },
  {
   "cell_type": "markdown",
   "id": "2687c6ce-8d9d-4fb7-87cd-e740e17329fe",
   "metadata": {},
   "source": [
    "Goal...."
   ]
  },
  {
   "cell_type": "code",
   "execution_count": 8,
   "id": "aa9fbab6-cb5a-42f8-b666-690e53461f70",
   "metadata": {},
   "outputs": [],
   "source": [
    "import pandas as pd\n",
    "import numpy as np\n",
    "\n",
    "import matplotlib.pyplot as plt\n",
    "\n",
    "from sklearn.model_selection import "
   ]
  },
  {
   "cell_type": "markdown",
   "id": "520cec42-dbfa-4fdd-9a2a-2f79c61d4e9c",
   "metadata": {},
   "source": [
    "## Ingest"
   ]
  },
  {
   "cell_type": "code",
   "execution_count": 2,
   "id": "1d39f186-a796-4333-b2a5-ac32f036990f",
   "metadata": {},
   "outputs": [],
   "source": [
    "data = pd.read_csv('https://raw.githubusercontent.com/jhancuch/SP500-forecasting/main/data/daily_index.csv')"
   ]
  },
  {
   "cell_type": "code",
   "execution_count": 3,
   "id": "94eb862d-dece-462b-9103-22928bed82e6",
   "metadata": {},
   "outputs": [
    {
     "data": {
      "text/html": [
       "<div>\n",
       "<style scoped>\n",
       "    .dataframe tbody tr th:only-of-type {\n",
       "        vertical-align: middle;\n",
       "    }\n",
       "\n",
       "    .dataframe tbody tr th {\n",
       "        vertical-align: top;\n",
       "    }\n",
       "\n",
       "    .dataframe thead th {\n",
       "        text-align: right;\n",
       "    }\n",
       "</style>\n",
       "<table border=\"1\" class=\"dataframe\">\n",
       "  <thead>\n",
       "    <tr style=\"text-align: right;\">\n",
       "      <th></th>\n",
       "      <th>Date</th>\n",
       "      <th>Open</th>\n",
       "      <th>High</th>\n",
       "      <th>Low</th>\n",
       "      <th>Close</th>\n",
       "      <th>Adj Close</th>\n",
       "      <th>Volume</th>\n",
       "    </tr>\n",
       "  </thead>\n",
       "  <tbody>\n",
       "    <tr>\n",
       "      <th>0</th>\n",
       "      <td>28-Feb-22</td>\n",
       "      <td>4,354.17</td>\n",
       "      <td>4,388.84</td>\n",
       "      <td>4,315.12</td>\n",
       "      <td>4,373.94</td>\n",
       "      <td>4,373.94</td>\n",
       "      <td>4,594,010,000</td>\n",
       "    </tr>\n",
       "    <tr>\n",
       "      <th>1</th>\n",
       "      <td>25-Feb-22</td>\n",
       "      <td>4,298.38</td>\n",
       "      <td>4,385.34</td>\n",
       "      <td>4,286.83</td>\n",
       "      <td>4,384.65</td>\n",
       "      <td>4,384.65</td>\n",
       "      <td>3,941,780,000</td>\n",
       "    </tr>\n",
       "    <tr>\n",
       "      <th>2</th>\n",
       "      <td>24-Feb-22</td>\n",
       "      <td>4,155.77</td>\n",
       "      <td>4,294.73</td>\n",
       "      <td>4,114.65</td>\n",
       "      <td>4,288.70</td>\n",
       "      <td>4,288.70</td>\n",
       "      <td>5,070,560,000</td>\n",
       "    </tr>\n",
       "    <tr>\n",
       "      <th>3</th>\n",
       "      <td>23-Feb-22</td>\n",
       "      <td>4,324.93</td>\n",
       "      <td>4,341.51</td>\n",
       "      <td>4,221.51</td>\n",
       "      <td>4,225.50</td>\n",
       "      <td>4,225.50</td>\n",
       "      <td>3,814,340,000</td>\n",
       "    </tr>\n",
       "    <tr>\n",
       "      <th>4</th>\n",
       "      <td>22-Feb-22</td>\n",
       "      <td>4,332.74</td>\n",
       "      <td>4,362.12</td>\n",
       "      <td>4,267.11</td>\n",
       "      <td>4,304.76</td>\n",
       "      <td>4,304.76</td>\n",
       "      <td>4,007,780,000</td>\n",
       "    </tr>\n",
       "  </tbody>\n",
       "</table>\n",
       "</div>"
      ],
      "text/plain": [
       "        Date      Open      High       Low     Close Adj Close         Volume\n",
       "0  28-Feb-22  4,354.17  4,388.84  4,315.12  4,373.94  4,373.94  4,594,010,000\n",
       "1  25-Feb-22  4,298.38  4,385.34  4,286.83  4,384.65  4,384.65  3,941,780,000\n",
       "2  24-Feb-22  4,155.77  4,294.73  4,114.65  4,288.70  4,288.70  5,070,560,000\n",
       "3  23-Feb-22  4,324.93  4,341.51  4,221.51  4,225.50  4,225.50  3,814,340,000\n",
       "4  22-Feb-22  4,332.74  4,362.12  4,267.11  4,304.76  4,304.76  4,007,780,000"
      ]
     },
     "execution_count": 3,
     "metadata": {},
     "output_type": "execute_result"
    }
   ],
   "source": [
    "data.head()"
   ]
  },
  {
   "cell_type": "code",
   "execution_count": 4,
   "id": "b4f32503-d2cd-4614-a849-0d9200b9dd18",
   "metadata": {},
   "outputs": [
    {
     "data": {
      "text/html": [
       "<div>\n",
       "<style scoped>\n",
       "    .dataframe tbody tr th:only-of-type {\n",
       "        vertical-align: middle;\n",
       "    }\n",
       "\n",
       "    .dataframe tbody tr th {\n",
       "        vertical-align: top;\n",
       "    }\n",
       "\n",
       "    .dataframe thead th {\n",
       "        text-align: right;\n",
       "    }\n",
       "</style>\n",
       "<table border=\"1\" class=\"dataframe\">\n",
       "  <thead>\n",
       "    <tr style=\"text-align: right;\">\n",
       "      <th></th>\n",
       "      <th>Date</th>\n",
       "      <th>Open</th>\n",
       "      <th>High</th>\n",
       "      <th>Low</th>\n",
       "      <th>Close</th>\n",
       "      <th>Adj Close</th>\n",
       "      <th>Volume</th>\n",
       "    </tr>\n",
       "  </thead>\n",
       "  <tbody>\n",
       "    <tr>\n",
       "      <th>1254</th>\n",
       "      <td>7-Mar-17</td>\n",
       "      <td>2,370.74</td>\n",
       "      <td>2,375.12</td>\n",
       "      <td>2,365.51</td>\n",
       "      <td>2,368.39</td>\n",
       "      <td>2,368.39</td>\n",
       "      <td>3,518,390,000</td>\n",
       "    </tr>\n",
       "    <tr>\n",
       "      <th>1255</th>\n",
       "      <td>6-Mar-17</td>\n",
       "      <td>2,375.23</td>\n",
       "      <td>2,378.80</td>\n",
       "      <td>2,367.98</td>\n",
       "      <td>2,375.31</td>\n",
       "      <td>2,375.31</td>\n",
       "      <td>3,232,700,000</td>\n",
       "    </tr>\n",
       "    <tr>\n",
       "      <th>1256</th>\n",
       "      <td>3-Mar-17</td>\n",
       "      <td>2,380.92</td>\n",
       "      <td>2,383.89</td>\n",
       "      <td>2,375.39</td>\n",
       "      <td>2,383.12</td>\n",
       "      <td>2,383.12</td>\n",
       "      <td>3,555,260,000</td>\n",
       "    </tr>\n",
       "    <tr>\n",
       "      <th>1257</th>\n",
       "      <td>2-Mar-17</td>\n",
       "      <td>2,394.75</td>\n",
       "      <td>2,394.75</td>\n",
       "      <td>2,380.17</td>\n",
       "      <td>2,381.92</td>\n",
       "      <td>2,381.92</td>\n",
       "      <td>3,821,320,000</td>\n",
       "    </tr>\n",
       "    <tr>\n",
       "      <th>1258</th>\n",
       "      <td>1-Mar-17</td>\n",
       "      <td>2,380.13</td>\n",
       "      <td>2,400.98</td>\n",
       "      <td>2,380.13</td>\n",
       "      <td>2,395.96</td>\n",
       "      <td>2,395.96</td>\n",
       "      <td>4,345,180,000</td>\n",
       "    </tr>\n",
       "  </tbody>\n",
       "</table>\n",
       "</div>"
      ],
      "text/plain": [
       "          Date      Open      High       Low     Close Adj Close  \\\n",
       "1254  7-Mar-17  2,370.74  2,375.12  2,365.51  2,368.39  2,368.39   \n",
       "1255  6-Mar-17  2,375.23  2,378.80  2,367.98  2,375.31  2,375.31   \n",
       "1256  3-Mar-17  2,380.92  2,383.89  2,375.39  2,383.12  2,383.12   \n",
       "1257  2-Mar-17  2,394.75  2,394.75  2,380.17  2,381.92  2,381.92   \n",
       "1258  1-Mar-17  2,380.13  2,400.98  2,380.13  2,395.96  2,395.96   \n",
       "\n",
       "             Volume  \n",
       "1254  3,518,390,000  \n",
       "1255  3,232,700,000  \n",
       "1256  3,555,260,000  \n",
       "1257  3,821,320,000  \n",
       "1258  4,345,180,000  "
      ]
     },
     "execution_count": 4,
     "metadata": {},
     "output_type": "execute_result"
    }
   ],
   "source": [
    "data.tail()"
   ]
  },
  {
   "cell_type": "code",
   "execution_count": 5,
   "id": "f9d4a0b9-b12f-4728-9935-3ae6bac9b54c",
   "metadata": {},
   "outputs": [
    {
     "data": {
      "text/plain": [
       "(1259, 7)"
      ]
     },
     "execution_count": 5,
     "metadata": {},
     "output_type": "execute_result"
    }
   ],
   "source": [
    "data.shape"
   ]
  },
  {
   "cell_type": "code",
   "execution_count": 17,
   "id": "dfb3e057-1c52-4561-912b-f253d454c8cb",
   "metadata": {},
   "outputs": [
    {
     "name": "stdout",
     "output_type": "stream",
     "text": [
      "<class 'pandas.core.frame.DataFrame'>\n",
      "RangeIndex: 1259 entries, 0 to 1258\n",
      "Data columns (total 7 columns):\n",
      " #   Column     Non-Null Count  Dtype         \n",
      "---  ------     --------------  -----         \n",
      " 0   Date       1259 non-null   datetime64[ns]\n",
      " 1   Open       1259 non-null   object        \n",
      " 2   High       1259 non-null   object        \n",
      " 3   Low        1259 non-null   object        \n",
      " 4   Close      1259 non-null   object        \n",
      " 5   Adj Close  1259 non-null   object        \n",
      " 6   Volume     1259 non-null   object        \n",
      "dtypes: datetime64[ns](1), object(6)\n",
      "memory usage: 69.0+ KB\n"
     ]
    }
   ],
   "source": [
    "data.info()"
   ]
  },
  {
   "cell_type": "code",
   "execution_count": 20,
   "id": "54f0dc58-f95e-4bff-ba76-5f3a6b18acdb",
   "metadata": {},
   "outputs": [],
   "source": [
    "data['Date'] = pd.to_datetime(data['Date'])\n",
    "data['Open'] = data['Open'].str.replace(',','').astype(float)\n",
    "data['High'] = data['High'].str.replace(',','').astype(float)\n",
    "data['Low'] = data['Low'].str.replace(',','').astype(float)\n",
    "data['Close'] = data['Close'].str.replace(',','').astype(float)\n",
    "data['Adj Close'] = data['Adj Close'].str.replace(',','').astype(float)\n",
    "data['Volume'] = data['Volume'].str.replace(',','').astype(int)"
   ]
  },
  {
   "cell_type": "code",
   "execution_count": 21,
   "id": "28becad5-6703-44e6-89ef-4dfcfeb00485",
   "metadata": {},
   "outputs": [
    {
     "data": {
      "text/html": [
       "<div>\n",
       "<style scoped>\n",
       "    .dataframe tbody tr th:only-of-type {\n",
       "        vertical-align: middle;\n",
       "    }\n",
       "\n",
       "    .dataframe tbody tr th {\n",
       "        vertical-align: top;\n",
       "    }\n",
       "\n",
       "    .dataframe thead th {\n",
       "        text-align: right;\n",
       "    }\n",
       "</style>\n",
       "<table border=\"1\" class=\"dataframe\">\n",
       "  <thead>\n",
       "    <tr style=\"text-align: right;\">\n",
       "      <th></th>\n",
       "      <th>Open</th>\n",
       "      <th>High</th>\n",
       "      <th>Low</th>\n",
       "      <th>Close</th>\n",
       "      <th>Adj Close</th>\n",
       "      <th>Volume</th>\n",
       "    </tr>\n",
       "  </thead>\n",
       "  <tbody>\n",
       "    <tr>\n",
       "      <th>count</th>\n",
       "      <td>1259.000000</td>\n",
       "      <td>1259.000000</td>\n",
       "      <td>1259.000000</td>\n",
       "      <td>1259.000000</td>\n",
       "      <td>1259.000000</td>\n",
       "      <td>1.259000e+03</td>\n",
       "    </tr>\n",
       "    <tr>\n",
       "      <th>mean</th>\n",
       "      <td>3188.838793</td>\n",
       "      <td>3205.339841</td>\n",
       "      <td>3170.685044</td>\n",
       "      <td>3189.184885</td>\n",
       "      <td>3189.184885</td>\n",
       "      <td>3.867971e+09</td>\n",
       "    </tr>\n",
       "    <tr>\n",
       "      <th>std</th>\n",
       "      <td>688.961141</td>\n",
       "      <td>692.549064</td>\n",
       "      <td>685.400607</td>\n",
       "      <td>689.307955</td>\n",
       "      <td>689.307955</td>\n",
       "      <td>1.067455e+09</td>\n",
       "    </tr>\n",
       "    <tr>\n",
       "      <th>min</th>\n",
       "      <td>2290.710000</td>\n",
       "      <td>2300.730000</td>\n",
       "      <td>2191.860000</td>\n",
       "      <td>2237.400000</td>\n",
       "      <td>2237.400000</td>\n",
       "      <td>1.296540e+09</td>\n",
       "    </tr>\n",
       "    <tr>\n",
       "      <th>25%</th>\n",
       "      <td>2691.105000</td>\n",
       "      <td>2708.745000</td>\n",
       "      <td>2677.385000</td>\n",
       "      <td>2692.190000</td>\n",
       "      <td>2692.190000</td>\n",
       "      <td>3.233955e+09</td>\n",
       "    </tr>\n",
       "    <tr>\n",
       "      <th>50%</th>\n",
       "      <td>2918.460000</td>\n",
       "      <td>2931.150000</td>\n",
       "      <td>2903.820000</td>\n",
       "      <td>2919.370000</td>\n",
       "      <td>2919.370000</td>\n",
       "      <td>3.589930e+09</td>\n",
       "    </tr>\n",
       "    <tr>\n",
       "      <th>75%</th>\n",
       "      <td>3634.840000</td>\n",
       "      <td>3643.310000</td>\n",
       "      <td>3608.960000</td>\n",
       "      <td>3632.530000</td>\n",
       "      <td>3632.530000</td>\n",
       "      <td>4.155015e+09</td>\n",
       "    </tr>\n",
       "    <tr>\n",
       "      <th>max</th>\n",
       "      <td>4804.510000</td>\n",
       "      <td>4818.620000</td>\n",
       "      <td>4780.040000</td>\n",
       "      <td>4796.560000</td>\n",
       "      <td>4796.560000</td>\n",
       "      <td>9.878040e+09</td>\n",
       "    </tr>\n",
       "  </tbody>\n",
       "</table>\n",
       "</div>"
      ],
      "text/plain": [
       "              Open         High          Low        Close    Adj Close  \\\n",
       "count  1259.000000  1259.000000  1259.000000  1259.000000  1259.000000   \n",
       "mean   3188.838793  3205.339841  3170.685044  3189.184885  3189.184885   \n",
       "std     688.961141   692.549064   685.400607   689.307955   689.307955   \n",
       "min    2290.710000  2300.730000  2191.860000  2237.400000  2237.400000   \n",
       "25%    2691.105000  2708.745000  2677.385000  2692.190000  2692.190000   \n",
       "50%    2918.460000  2931.150000  2903.820000  2919.370000  2919.370000   \n",
       "75%    3634.840000  3643.310000  3608.960000  3632.530000  3632.530000   \n",
       "max    4804.510000  4818.620000  4780.040000  4796.560000  4796.560000   \n",
       "\n",
       "             Volume  \n",
       "count  1.259000e+03  \n",
       "mean   3.867971e+09  \n",
       "std    1.067455e+09  \n",
       "min    1.296540e+09  \n",
       "25%    3.233955e+09  \n",
       "50%    3.589930e+09  \n",
       "75%    4.155015e+09  \n",
       "max    9.878040e+09  "
      ]
     },
     "execution_count": 21,
     "metadata": {},
     "output_type": "execute_result"
    }
   ],
   "source": [
    "data.describe()"
   ]
  },
  {
   "cell_type": "markdown",
   "id": "bee9e052-7334-4ab6-a078-217bef95a0f4",
   "metadata": {},
   "source": [
    "## EDA"
   ]
  },
  {
   "cell_type": "markdown",
   "id": "44785633-cfa6-45cd-95ec-4ad1e3f66f23",
   "metadata": {},
   "source": [
    "commentary"
   ]
  },
  {
   "cell_type": "code",
   "execution_count": 24,
   "id": "2416654c-b272-4be6-8222-4e79f79f6425",
   "metadata": {},
   "outputs": [
    {
     "data": {
      "image/png": "[encoded data removed]",
      "text/plain": [
       "<Figure size 720x576 with 1 Axes>"
      ]
     },
     "metadata": {
      "needs_background": "light"
     },
     "output_type": "display_data"
    }
   ],
   "source": [
    "plt.figure(figsize=(10, 8))\n",
    "\n",
    "plt.plot(data.Date, data.Open, label='Open', linewidth=1)\n",
    "plt.plot(data.Date, data.Close, color='red', label='Close', linewidth=1)\n",
    "\n",
    "#add title and axis labels\n",
    "plt.title('S&P500 Index Open and Close by Date')\n",
    "plt.xlabel('Date')\n",
    "plt.ylabel('Index Value')\n",
    "\n",
    "#add legend\n",
    "plt.legend()\n",
    "\n",
    "#display plot\n",
    "plt.show() "
   ]
  },
  {
   "cell_type": "markdown",
   "id": "46ffd42e-6572-47ed-990a-51f76cd4037a",
   "metadata": {},
   "source": [
    "No dif between close and adj close"
   ]
  },
  {
   "cell_type": "code",
   "execution_count": 25,
   "id": "1b757e7a-4555-4450-b004-e37b0b8f2a5b",
   "metadata": {},
   "outputs": [
    {
     "data": {
      "image/png": "[encoded data removed]",
      "text/plain": [
       "<Figure size 720x576 with 1 Axes>"
      ]
     },
     "metadata": {
      "needs_background": "light"
     },
     "output_type": "display_data"
    }
   ],
   "source": [
    "plt.figure(figsize=(10, 8))\n",
    "\n",
    "plt.plot(data.Date, data['Adj Close'], label='Open', linewidth=1)\n",
    "plt.plot(data.Date, data.Close, color='red', label='Close', linewidth=1)\n",
    "\n",
    "#add title and axis labels\n",
    "plt.title('S&P500 Index Open and Close by Date')\n",
    "plt.xlabel('Date')\n",
    "plt.ylabel('Index Value')\n",
    "\n",
    "#add legend\n",
    "plt.legend()\n",
    "\n",
    "#display plot\n",
    "plt.show() "
   ]
  },
  {
   "cell_type": "code",
   "execution_count": 27,
   "id": "6a1584d3-87c2-4073-8858-286fd8a9a4d4",
   "metadata": {},
   "outputs": [
    {
     "data": {
      "text/plain": [
       "0       0.0\n",
       "1       0.0\n",
       "2       0.0\n",
       "3       0.0\n",
       "4       0.0\n",
       "       ... \n",
       "1254    0.0\n",
       "1255    0.0\n",
       "1256    0.0\n",
       "1257    0.0\n",
       "1258    0.0\n",
       "Length: 1259, dtype: float64"
      ]
     },
     "execution_count": 27,
     "metadata": {},
     "output_type": "execute_result"
    }
   ],
   "source": [
    "(data['Close'] - data['Adj Close'])"
   ]
  },
  {
   "cell_type": "code",
   "execution_count": 28,
   "id": "ca7bc6d6-e49d-4d72-8cda-a06b2d3250c3",
   "metadata": {},
   "outputs": [
    {
     "data": {
      "text/plain": [
       "0.0"
      ]
     },
     "execution_count": 28,
     "metadata": {},
     "output_type": "execute_result"
    }
   ],
   "source": [
    "(data['Close'] - data['Adj Close']).mean()"
   ]
  },
  {
   "cell_type": "markdown",
   "id": "300ce420-9125-4052-b59f-e6fd817fe259",
   "metadata": {},
   "source": [
    "## Modeling"
   ]
  },
  {
   "cell_type": "markdown",
   "id": "e07b328e-f036-4ff5-947e-32f766967e3d",
   "metadata": {},
   "source": [
    "### Preprocessing"
   ]
  },
  {
   "cell_type": "markdown",
   "id": "a8a7db6b-b7f2-4dde-b7ca-cc66bd504041",
   "metadata": {},
   "source": [
    "blah blah blah"
   ]
  },
  {
   "cell_type": "code",
   "execution_count": 29,
   "id": "f362a2ce-1539-4e6d-9b87-1f7725450d8c",
   "metadata": {},
   "outputs": [
    {
     "data": {
      "text/plain": [
       "1259"
      ]
     },
     "execution_count": 29,
     "metadata": {},
     "output_type": "execute_result"
    }
   ],
   "source": [
    "len(data)"
   ]
  },
  {
   "cell_type": "code",
   "execution_count": 30,
   "id": "0424c3fa-6703-42d4-a1f0-387a9458ea61",
   "metadata": {},
   "outputs": [
    {
     "data": {
      "text/plain": [
       "1007.2"
      ]
     },
     "execution_count": 30,
     "metadata": {},
     "output_type": "execute_result"
    }
   ],
   "source": [
    "len(data)*.8"
   ]
  },
  {
   "cell_type": "code",
   "execution_count": 33,
   "id": "c868ac6f-56b7-468e-bc90-39564b1a9e8f",
   "metadata": {},
   "outputs": [],
   "source": [
    "X_train, y_train, X_test, y_test = data.iloc[:1008, [1,2,3,6]], data.iloc[:1008, 4], data.iloc[1008:, [1,2,3,6]], data.iloc[1008:, 4]"
   ]
  },
  {
   "cell_type": "markdown",
   "id": "8e7b71b7-d5a3-4f07-b575-c735e8bcca47",
   "metadata": {},
   "source": [
    "### Model 1"
   ]
  },
  {
   "cell_type": "markdown",
   "id": "15b4986d-28c4-43b8-b44d-43fd6102962c",
   "metadata": {},
   "source": [
    "blah blah blah"
   ]
  },
  {
   "cell_type": "code",
   "execution_count": null,
   "id": "2885d2e2-6d6f-4968-92ce-c7369a4fdef8",
   "metadata": {},
   "outputs": [],
   "source": []
  },
  {
   "cell_type": "code",
   "execution_count": null,
   "id": "a228d18b-f9cf-47f8-8e8e-7365e67e528f",
   "metadata": {},
   "outputs": [],
   "source": []
  },
  {
   "cell_type": "markdown",
   "id": "727274c4-9140-4bb6-9732-b370bd853b2e",
   "metadata": {},
   "source": [
    "## Conclusion"
   ]
  },
  {
   "cell_type": "code",
   "execution_count": null,
   "id": "bee9a17c-34be-41d6-85c6-1c777ef617ff",
   "metadata": {},
   "outputs": [],
   "source": []
  }
 ],
 "metadata": {
  "kernelspec": {
   "display_name": "Python 3 (ipykernel)",
   "language": "python",
   "name": "python3"
  },
  "language_info": {
   "codemirror_mode": {
    "name": "ipython",
    "version": 3
   },
   "file_extension": ".py",
   "mimetype": "text/x-python",
   "name": "python",
   "nbconvert_exporter": "python",
   "pygments_lexer": "ipython3",
   "version": "3.9.9"
  }
 },
 "nbformat": 4,
 "nbformat_minor": 5
}
