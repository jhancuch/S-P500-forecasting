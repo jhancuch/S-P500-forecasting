{
 "cells": [
  {
   "cell_type": "markdown",
   "id": "1a7e8a20-52be-4281-b47b-b248ce092180",
   "metadata": {},
   "source": [
    "# Forecast S&P 500 Index Closing Price"
   ]
  },
  {
   "cell_type": "markdown",
   "id": "2687c6ce-8d9d-4fb7-87cd-e740e17329fe",
   "metadata": {},
   "source": [
    "Goal...."
   ]
  },
  {
   "cell_type": "code",
   "execution_count": 8,
   "id": "aa9fbab6-cb5a-42f8-b666-690e53461f70",
   "metadata": {},
   "outputs": [],
   "source": [
    "import pandas as pd\n",
    "import numpy as np\n",
    "\n",
    "import matplotlib.pyplot as plt\n",
    "import datetime"
   ]
  },
  {
   "cell_type": "markdown",
   "id": "520cec42-dbfa-4fdd-9a2a-2f79c61d4e9c",
   "metadata": {},
   "source": [
    "## Ingest"
   ]
  },
  {
   "cell_type": "code",
   "execution_count": 2,
   "id": "1d39f186-a796-4333-b2a5-ac32f036990f",
   "metadata": {},
   "outputs": [],
   "source": [
    "data = pd.read_csv('https://raw.githubusercontent.com/jhancuch/SP500-forecasting/main/data/daily_index.csv')"
   ]
  },
  {
   "cell_type": "code",
   "execution_count": 3,
   "id": "94eb862d-dece-462b-9103-22928bed82e6",
   "metadata": {},
   "outputs": [
    {
     "data": {
      "text/html": [
       "<div>\n",
       "<style scoped>\n",
       "    .dataframe tbody tr th:only-of-type {\n",
       "        vertical-align: middle;\n",
       "    }\n",
       "\n",
       "    .dataframe tbody tr th {\n",
       "        vertical-align: top;\n",
       "    }\n",
       "\n",
       "    .dataframe thead th {\n",
       "        text-align: right;\n",
       "    }\n",
       "</style>\n",
       "<table border=\"1\" class=\"dataframe\">\n",
       "  <thead>\n",
       "    <tr style=\"text-align: right;\">\n",
       "      <th></th>\n",
       "      <th>Date</th>\n",
       "      <th>Open</th>\n",
       "      <th>High</th>\n",
       "      <th>Low</th>\n",
       "      <th>Close</th>\n",
       "      <th>Adj Close</th>\n",
       "      <th>Volume</th>\n",
       "    </tr>\n",
       "  </thead>\n",
       "  <tbody>\n",
       "    <tr>\n",
       "      <th>0</th>\n",
       "      <td>28-Feb-22</td>\n",
       "      <td>4,354.17</td>\n",
       "      <td>4,388.84</td>\n",
       "      <td>4,315.12</td>\n",
       "      <td>4,373.94</td>\n",
       "      <td>4,373.94</td>\n",
       "      <td>4,594,010,000</td>\n",
       "    </tr>\n",
       "    <tr>\n",
       "      <th>1</th>\n",
       "      <td>25-Feb-22</td>\n",
       "      <td>4,298.38</td>\n",
       "      <td>4,385.34</td>\n",
       "      <td>4,286.83</td>\n",
       "      <td>4,384.65</td>\n",
       "      <td>4,384.65</td>\n",
       "      <td>3,941,780,000</td>\n",
       "    </tr>\n",
       "    <tr>\n",
       "      <th>2</th>\n",
       "      <td>24-Feb-22</td>\n",
       "      <td>4,155.77</td>\n",
       "      <td>4,294.73</td>\n",
       "      <td>4,114.65</td>\n",
       "      <td>4,288.70</td>\n",
       "      <td>4,288.70</td>\n",
       "      <td>5,070,560,000</td>\n",
       "    </tr>\n",
       "    <tr>\n",
       "      <th>3</th>\n",
       "      <td>23-Feb-22</td>\n",
       "      <td>4,324.93</td>\n",
       "      <td>4,341.51</td>\n",
       "      <td>4,221.51</td>\n",
       "      <td>4,225.50</td>\n",
       "      <td>4,225.50</td>\n",
       "      <td>3,814,340,000</td>\n",
       "    </tr>\n",
       "    <tr>\n",
       "      <th>4</th>\n",
       "      <td>22-Feb-22</td>\n",
       "      <td>4,332.74</td>\n",
       "      <td>4,362.12</td>\n",
       "      <td>4,267.11</td>\n",
       "      <td>4,304.76</td>\n",
       "      <td>4,304.76</td>\n",
       "      <td>4,007,780,000</td>\n",
       "    </tr>\n",
       "  </tbody>\n",
       "</table>\n",
       "</div>"
      ],
      "text/plain": [
       "        Date      Open      High       Low     Close Adj Close         Volume\n",
       "0  28-Feb-22  4,354.17  4,388.84  4,315.12  4,373.94  4,373.94  4,594,010,000\n",
       "1  25-Feb-22  4,298.38  4,385.34  4,286.83  4,384.65  4,384.65  3,941,780,000\n",
       "2  24-Feb-22  4,155.77  4,294.73  4,114.65  4,288.70  4,288.70  5,070,560,000\n",
       "3  23-Feb-22  4,324.93  4,341.51  4,221.51  4,225.50  4,225.50  3,814,340,000\n",
       "4  22-Feb-22  4,332.74  4,362.12  4,267.11  4,304.76  4,304.76  4,007,780,000"
      ]
     },
     "execution_count": 3,
     "metadata": {},
     "output_type": "execute_result"
    }
   ],
   "source": [
    "data.head()"
   ]
  },
  {
   "cell_type": "code",
   "execution_count": 4,
   "id": "b4f32503-d2cd-4614-a849-0d9200b9dd18",
   "metadata": {},
   "outputs": [
    {
     "data": {
      "text/html": [
       "<div>\n",
       "<style scoped>\n",
       "    .dataframe tbody tr th:only-of-type {\n",
       "        vertical-align: middle;\n",
       "    }\n",
       "\n",
       "    .dataframe tbody tr th {\n",
       "        vertical-align: top;\n",
       "    }\n",
       "\n",
       "    .dataframe thead th {\n",
       "        text-align: right;\n",
       "    }\n",
       "</style>\n",
       "<table border=\"1\" class=\"dataframe\">\n",
       "  <thead>\n",
       "    <tr style=\"text-align: right;\">\n",
       "      <th></th>\n",
       "      <th>Date</th>\n",
       "      <th>Open</th>\n",
       "      <th>High</th>\n",
       "      <th>Low</th>\n",
       "      <th>Close</th>\n",
       "      <th>Adj Close</th>\n",
       "      <th>Volume</th>\n",
       "    </tr>\n",
       "  </thead>\n",
       "  <tbody>\n",
       "    <tr>\n",
       "      <th>1254</th>\n",
       "      <td>7-Mar-17</td>\n",
       "      <td>2,370.74</td>\n",
       "      <td>2,375.12</td>\n",
       "      <td>2,365.51</td>\n",
       "      <td>2,368.39</td>\n",
       "      <td>2,368.39</td>\n",
       "      <td>3,518,390,000</td>\n",
       "    </tr>\n",
       "    <tr>\n",
       "      <th>1255</th>\n",
       "      <td>6-Mar-17</td>\n",
       "      <td>2,375.23</td>\n",
       "      <td>2,378.80</td>\n",
       "      <td>2,367.98</td>\n",
       "      <td>2,375.31</td>\n",
       "      <td>2,375.31</td>\n",
       "      <td>3,232,700,000</td>\n",
       "    </tr>\n",
       "    <tr>\n",
       "      <th>1256</th>\n",
       "      <td>3-Mar-17</td>\n",
       "      <td>2,380.92</td>\n",
       "      <td>2,383.89</td>\n",
       "      <td>2,375.39</td>\n",
       "      <td>2,383.12</td>\n",
       "      <td>2,383.12</td>\n",
       "      <td>3,555,260,000</td>\n",
       "    </tr>\n",
       "    <tr>\n",
       "      <th>1257</th>\n",
       "      <td>2-Mar-17</td>\n",
       "      <td>2,394.75</td>\n",
       "      <td>2,394.75</td>\n",
       "      <td>2,380.17</td>\n",
       "      <td>2,381.92</td>\n",
       "      <td>2,381.92</td>\n",
       "      <td>3,821,320,000</td>\n",
       "    </tr>\n",
       "    <tr>\n",
       "      <th>1258</th>\n",
       "      <td>1-Mar-17</td>\n",
       "      <td>2,380.13</td>\n",
       "      <td>2,400.98</td>\n",
       "      <td>2,380.13</td>\n",
       "      <td>2,395.96</td>\n",
       "      <td>2,395.96</td>\n",
       "      <td>4,345,180,000</td>\n",
       "    </tr>\n",
       "  </tbody>\n",
       "</table>\n",
       "</div>"
      ],
      "text/plain": [
       "          Date      Open      High       Low     Close Adj Close  \\\n",
       "1254  7-Mar-17  2,370.74  2,375.12  2,365.51  2,368.39  2,368.39   \n",
       "1255  6-Mar-17  2,375.23  2,378.80  2,367.98  2,375.31  2,375.31   \n",
       "1256  3-Mar-17  2,380.92  2,383.89  2,375.39  2,383.12  2,383.12   \n",
       "1257  2-Mar-17  2,394.75  2,394.75  2,380.17  2,381.92  2,381.92   \n",
       "1258  1-Mar-17  2,380.13  2,400.98  2,380.13  2,395.96  2,395.96   \n",
       "\n",
       "             Volume  \n",
       "1254  3,518,390,000  \n",
       "1255  3,232,700,000  \n",
       "1256  3,555,260,000  \n",
       "1257  3,821,320,000  \n",
       "1258  4,345,180,000  "
      ]
     },
     "execution_count": 4,
     "metadata": {},
     "output_type": "execute_result"
    }
   ],
   "source": [
    "data.tail()"
   ]
  },
  {
   "cell_type": "code",
   "execution_count": 5,
   "id": "f9d4a0b9-b12f-4728-9935-3ae6bac9b54c",
   "metadata": {},
   "outputs": [
    {
     "data": {
      "text/plain": [
       "(1259, 7)"
      ]
     },
     "execution_count": 5,
     "metadata": {},
     "output_type": "execute_result"
    }
   ],
   "source": [
    "data.shape"
   ]
  },
  {
   "cell_type": "code",
   "execution_count": 7,
   "id": "28becad5-6703-44e6-89ef-4dfcfeb00485",
   "metadata": {},
   "outputs": [
    {
     "data": {
      "text/html": [
       "<div>\n",
       "<style scoped>\n",
       "    .dataframe tbody tr th:only-of-type {\n",
       "        vertical-align: middle;\n",
       "    }\n",
       "\n",
       "    .dataframe tbody tr th {\n",
       "        vertical-align: top;\n",
       "    }\n",
       "\n",
       "    .dataframe thead th {\n",
       "        text-align: right;\n",
       "    }\n",
       "</style>\n",
       "<table border=\"1\" class=\"dataframe\">\n",
       "  <thead>\n",
       "    <tr style=\"text-align: right;\">\n",
       "      <th></th>\n",
       "      <th>Date</th>\n",
       "      <th>Open</th>\n",
       "      <th>High</th>\n",
       "      <th>Low</th>\n",
       "      <th>Close</th>\n",
       "      <th>Adj Close</th>\n",
       "      <th>Volume</th>\n",
       "    </tr>\n",
       "  </thead>\n",
       "  <tbody>\n",
       "    <tr>\n",
       "      <th>count</th>\n",
       "      <td>1259</td>\n",
       "      <td>1259</td>\n",
       "      <td>1259</td>\n",
       "      <td>1259</td>\n",
       "      <td>1259</td>\n",
       "      <td>1259</td>\n",
       "      <td>1259</td>\n",
       "    </tr>\n",
       "    <tr>\n",
       "      <th>unique</th>\n",
       "      <td>1259</td>\n",
       "      <td>1250</td>\n",
       "      <td>1253</td>\n",
       "      <td>1255</td>\n",
       "      <td>1254</td>\n",
       "      <td>1254</td>\n",
       "      <td>1259</td>\n",
       "    </tr>\n",
       "    <tr>\n",
       "      <th>top</th>\n",
       "      <td>28-Feb-22</td>\n",
       "      <td>2,630.86</td>\n",
       "      <td>4,429.97</td>\n",
       "      <td>2,881.99</td>\n",
       "      <td>2,926.46</td>\n",
       "      <td>2,926.46</td>\n",
       "      <td>4,594,010,000</td>\n",
       "    </tr>\n",
       "    <tr>\n",
       "      <th>freq</th>\n",
       "      <td>1</td>\n",
       "      <td>2</td>\n",
       "      <td>2</td>\n",
       "      <td>2</td>\n",
       "      <td>2</td>\n",
       "      <td>2</td>\n",
       "      <td>1</td>\n",
       "    </tr>\n",
       "  </tbody>\n",
       "</table>\n",
       "</div>"
      ],
      "text/plain": [
       "             Date      Open      High       Low     Close Adj Close  \\\n",
       "count        1259      1259      1259      1259      1259      1259   \n",
       "unique       1259      1250      1253      1255      1254      1254   \n",
       "top     28-Feb-22  2,630.86  4,429.97  2,881.99  2,926.46  2,926.46   \n",
       "freq            1         2         2         2         2         2   \n",
       "\n",
       "               Volume  \n",
       "count            1259  \n",
       "unique           1259  \n",
       "top     4,594,010,000  \n",
       "freq                1  "
      ]
     },
     "execution_count": 7,
     "metadata": {},
     "output_type": "execute_result"
    }
   ],
   "source": [
    "data.describe()"
   ]
  },
  {
   "cell_type": "markdown",
   "id": "bee9e052-7334-4ab6-a078-217bef95a0f4",
   "metadata": {},
   "source": [
    "## EDA"
   ]
  },
  {
   "cell_type": "code",
   "execution_count": null,
   "id": "2416654c-b272-4be6-8222-4e79f79f6425",
   "metadata": {},
   "outputs": [],
   "source": []
  },
  {
   "cell_type": "markdown",
   "id": "300ce420-9125-4052-b59f-e6fd817fe259",
   "metadata": {},
   "source": [
    "## Modeling"
   ]
  },
  {
   "cell_type": "markdown",
   "id": "727274c4-9140-4bb6-9732-b370bd853b2e",
   "metadata": {},
   "source": [
    "## Conclusion"
   ]
  },
  {
   "cell_type": "code",
   "execution_count": null,
   "id": "bee9a17c-34be-41d6-85c6-1c777ef617ff",
   "metadata": {},
   "outputs": [],
   "source": []
  }
 ],
 "metadata": {
  "kernelspec": {
   "display_name": "Python 3 (ipykernel)",
   "language": "python",
   "name": "python3"
  },
  "language_info": {
   "codemirror_mode": {
    "name": "ipython",
    "version": 3
   },
   "file_extension": ".py",
   "mimetype": "text/x-python",
   "name": "python",
   "nbconvert_exporter": "python",
   "pygments_lexer": "ipython3",
   "version": "3.9.9"
  }
 },
 "nbformat": 4,
 "nbformat_minor": 5
}
