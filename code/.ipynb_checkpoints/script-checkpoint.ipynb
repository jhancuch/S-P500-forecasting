{
 "cells": [
  {
   "cell_type": "markdown",
   "id": "1a7e8a20-52be-4281-b47b-b248ce092180",
   "metadata": {},
   "source": [
    "# Forecast S&P 500 Index Closing Price"
   ]
  },
  {
   "cell_type": "markdown",
   "id": "2687c6ce-8d9d-4fb7-87cd-e740e17329fe",
   "metadata": {},
   "source": [
    "Goal...."
   ]
  },
  {
   "cell_type": "markdown",
   "id": "520cec42-dbfa-4fdd-9a2a-2f79c61d4e9c",
   "metadata": {},
   "source": [
    "## Ingest"
   ]
  },
  {
   "cell_type": "markdown",
   "id": "bee9e052-7334-4ab6-a078-217bef95a0f4",
   "metadata": {},
   "source": [
    "## EDA"
   ]
  },
  {
   "cell_type": "markdown",
   "id": "300ce420-9125-4052-b59f-e6fd817fe259",
   "metadata": {},
   "source": [
    "## Modeling"
   ]
  },
  {
   "cell_type": "markdown",
   "id": "727274c4-9140-4bb6-9732-b370bd853b2e",
   "metadata": {},
   "source": [
    "## Conclusion"
   ]
  },
  {
   "cell_type": "code",
   "execution_count": null,
   "id": "bee9a17c-34be-41d6-85c6-1c777ef617ff",
   "metadata": {},
   "outputs": [],
   "source": []
  }
 ],
 "metadata": {
  "kernelspec": {
   "display_name": "Python 3 (ipykernel)",
   "language": "python",
   "name": "python3"
  },
  "language_info": {
   "codemirror_mode": {
    "name": "ipython",
    "version": 3
   },
   "file_extension": ".py",
   "mimetype": "text/x-python",
   "name": "python",
   "nbconvert_exporter": "python",
   "pygments_lexer": "ipython3",
   "version": "3.9.9"
  }
 },
 "nbformat": 4,
 "nbformat_minor": 5
}
